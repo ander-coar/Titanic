{
 "cells": [
  {
   "cell_type": "code",
   "id": "initial_id",
   "metadata": {
    "collapsed": true,
    "ExecuteTime": {
     "end_time": "2025-10-30T02:03:27.684867Z",
     "start_time": "2025-10-30T02:03:27.672644Z"
    }
   },
   "source": [
    "import pandas as pd\n",
    "from jedi.inference.utils import to_list\n",
    "\n",
    "df_titanic = pd.read_csv('../data/raw/train.csv') # Al cargar el dataset y convertirlo en un DataFrame Los valores faltantes se representan como NaN, Null, NaT, None, Missing, etc. en columnas numéricas se convierten en un float\n",
    "df_titanic.head(6) # Muestra las primeras 5 filas del DataFrame"
   ],
   "outputs": [
    {
     "data": {
      "text/plain": [
       "   PassengerId  Survived  Pclass  \\\n",
       "0            1         0       3   \n",
       "1            2         1       1   \n",
       "2            3         1       3   \n",
       "3            4         1       1   \n",
       "4            5         0       3   \n",
       "5            6         0       3   \n",
       "\n",
       "                                                Name     Sex   Age  SibSp  \\\n",
       "0                            Braund, Mr. Owen Harris    male  22.0      1   \n",
       "1  Cumings, Mrs. John Bradley (Florence Briggs Th...  female  38.0      1   \n",
       "2                             Heikkinen, Miss. Laina  female  26.0      0   \n",
       "3       Futrelle, Mrs. Jacques Heath (Lily May Peel)  female  35.0      1   \n",
       "4                           Allen, Mr. William Henry    male  35.0      0   \n",
       "5                                   Moran, Mr. James    male   NaN      0   \n",
       "\n",
       "   Parch            Ticket     Fare Cabin Embarked  \n",
       "0      0         A/5 21171   7.2500   NaN        S  \n",
       "1      0          PC 17599  71.2833   C85        C  \n",
       "2      0  STON/O2. 3101282   7.9250   NaN        S  \n",
       "3      0            113803  53.1000  C123        S  \n",
       "4      0            373450   8.0500   NaN        S  \n",
       "5      0            330877   8.4583   NaN        Q  "
      ],
      "text/html": [
       "<div>\n",
       "<style scoped>\n",
       "    .dataframe tbody tr th:only-of-type {\n",
       "        vertical-align: middle;\n",
       "    }\n",
       "\n",
       "    .dataframe tbody tr th {\n",
       "        vertical-align: top;\n",
       "    }\n",
       "\n",
       "    .dataframe thead th {\n",
       "        text-align: right;\n",
       "    }\n",
       "</style>\n",
       "<table border=\"1\" class=\"dataframe\">\n",
       "  <thead>\n",
       "    <tr style=\"text-align: right;\">\n",
       "      <th></th>\n",
       "      <th>PassengerId</th>\n",
       "      <th>Survived</th>\n",
       "      <th>Pclass</th>\n",
       "      <th>Name</th>\n",
       "      <th>Sex</th>\n",
       "      <th>Age</th>\n",
       "      <th>SibSp</th>\n",
       "      <th>Parch</th>\n",
       "      <th>Ticket</th>\n",
       "      <th>Fare</th>\n",
       "      <th>Cabin</th>\n",
       "      <th>Embarked</th>\n",
       "    </tr>\n",
       "  </thead>\n",
       "  <tbody>\n",
       "    <tr>\n",
       "      <th>0</th>\n",
       "      <td>1</td>\n",
       "      <td>0</td>\n",
       "      <td>3</td>\n",
       "      <td>Braund, Mr. Owen Harris</td>\n",
       "      <td>male</td>\n",
       "      <td>22.0</td>\n",
       "      <td>1</td>\n",
       "      <td>0</td>\n",
       "      <td>A/5 21171</td>\n",
       "      <td>7.2500</td>\n",
       "      <td>NaN</td>\n",
       "      <td>S</td>\n",
       "    </tr>\n",
       "    <tr>\n",
       "      <th>1</th>\n",
       "      <td>2</td>\n",
       "      <td>1</td>\n",
       "      <td>1</td>\n",
       "      <td>Cumings, Mrs. John Bradley (Florence Briggs Th...</td>\n",
       "      <td>female</td>\n",
       "      <td>38.0</td>\n",
       "      <td>1</td>\n",
       "      <td>0</td>\n",
       "      <td>PC 17599</td>\n",
       "      <td>71.2833</td>\n",
       "      <td>C85</td>\n",
       "      <td>C</td>\n",
       "    </tr>\n",
       "    <tr>\n",
       "      <th>2</th>\n",
       "      <td>3</td>\n",
       "      <td>1</td>\n",
       "      <td>3</td>\n",
       "      <td>Heikkinen, Miss. Laina</td>\n",
       "      <td>female</td>\n",
       "      <td>26.0</td>\n",
       "      <td>0</td>\n",
       "      <td>0</td>\n",
       "      <td>STON/O2. 3101282</td>\n",
       "      <td>7.9250</td>\n",
       "      <td>NaN</td>\n",
       "      <td>S</td>\n",
       "    </tr>\n",
       "    <tr>\n",
       "      <th>3</th>\n",
       "      <td>4</td>\n",
       "      <td>1</td>\n",
       "      <td>1</td>\n",
       "      <td>Futrelle, Mrs. Jacques Heath (Lily May Peel)</td>\n",
       "      <td>female</td>\n",
       "      <td>35.0</td>\n",
       "      <td>1</td>\n",
       "      <td>0</td>\n",
       "      <td>113803</td>\n",
       "      <td>53.1000</td>\n",
       "      <td>C123</td>\n",
       "      <td>S</td>\n",
       "    </tr>\n",
       "    <tr>\n",
       "      <th>4</th>\n",
       "      <td>5</td>\n",
       "      <td>0</td>\n",
       "      <td>3</td>\n",
       "      <td>Allen, Mr. William Henry</td>\n",
       "      <td>male</td>\n",
       "      <td>35.0</td>\n",
       "      <td>0</td>\n",
       "      <td>0</td>\n",
       "      <td>373450</td>\n",
       "      <td>8.0500</td>\n",
       "      <td>NaN</td>\n",
       "      <td>S</td>\n",
       "    </tr>\n",
       "    <tr>\n",
       "      <th>5</th>\n",
       "      <td>6</td>\n",
       "      <td>0</td>\n",
       "      <td>3</td>\n",
       "      <td>Moran, Mr. James</td>\n",
       "      <td>male</td>\n",
       "      <td>NaN</td>\n",
       "      <td>0</td>\n",
       "      <td>0</td>\n",
       "      <td>330877</td>\n",
       "      <td>8.4583</td>\n",
       "      <td>NaN</td>\n",
       "      <td>Q</td>\n",
       "    </tr>\n",
       "  </tbody>\n",
       "</table>\n",
       "</div>"
      ]
     },
     "execution_count": 11,
     "metadata": {},
     "output_type": "execute_result"
    }
   ],
   "execution_count": 11
  },
  {
   "metadata": {
    "ExecuteTime": {
     "end_time": "2025-10-30T02:03:34.884886Z",
     "start_time": "2025-10-30T02:03:34.875940Z"
    }
   },
   "cell_type": "code",
   "source": "print(df_titanic.info())",
   "id": "fa8c5d8813445acc",
   "outputs": [
    {
     "name": "stdout",
     "output_type": "stream",
     "text": [
      "<class 'pandas.core.frame.DataFrame'>\n",
      "RangeIndex: 891 entries, 0 to 890\n",
      "Data columns (total 12 columns):\n",
      " #   Column       Non-Null Count  Dtype  \n",
      "---  ------       --------------  -----  \n",
      " 0   PassengerId  891 non-null    int64  \n",
      " 1   Survived     891 non-null    int64  \n",
      " 2   Pclass       891 non-null    int64  \n",
      " 3   Name         891 non-null    object \n",
      " 4   Sex          891 non-null    object \n",
      " 5   Age          714 non-null    float64\n",
      " 6   SibSp        891 non-null    int64  \n",
      " 7   Parch        891 non-null    int64  \n",
      " 8   Ticket       891 non-null    object \n",
      " 9   Fare         891 non-null    float64\n",
      " 10  Cabin        204 non-null    object \n",
      " 11  Embarked     889 non-null    object \n",
      "dtypes: float64(2), int64(5), object(5)\n",
      "memory usage: 83.7+ KB\n",
      "None\n"
     ]
    }
   ],
   "execution_count": 12
  },
  {
   "metadata": {
    "ExecuteTime": {
     "end_time": "2025-10-24T02:05:45.148540Z",
     "start_time": "2025-10-24T02:05:45.142672Z"
    }
   },
   "cell_type": "code",
   "source": [
    "# identificando los valores faltantes en el DataFrame\n",
    "print(df_titanic.isnull().sum())\n",
    "# Saber la edad mínima y máxima\n",
    "print(df_titanic['Age'].min())\n",
    "print(df_titanic['Age'].max())"
   ],
   "id": "5a4a8b1c9dc5091f",
   "outputs": [
    {
     "name": "stdout",
     "output_type": "stream",
     "text": [
      "PassengerId      0\n",
      "Survived         0\n",
      "Pclass           0\n",
      "Name             0\n",
      "Sex              0\n",
      "Age            177\n",
      "SibSp            0\n",
      "Parch            0\n",
      "Ticket           0\n",
      "Fare             0\n",
      "Cabin          687\n",
      "Embarked         2\n",
      "dtype: int64\n",
      "0.42\n",
      "80.0\n"
     ]
    }
   ],
   "execution_count": 9
  },
  {
   "metadata": {
    "ExecuteTime": {
     "end_time": "2025-10-23T02:15:42.108055Z",
     "start_time": "2025-10-23T02:15:42.092483Z"
    }
   },
   "cell_type": "code",
   "source": "print(df_titanic.describe())",
   "id": "7120777ed655c760",
   "outputs": [
    {
     "name": "stdout",
     "output_type": "stream",
     "text": [
      "       PassengerId    Survived      Pclass         Age       SibSp  \\\n",
      "count   891.000000  891.000000  891.000000  714.000000  891.000000   \n",
      "mean    446.000000    0.383838    2.308642   29.699118    0.523008   \n",
      "std     257.353842    0.486592    0.836071   14.526497    1.102743   \n",
      "min       1.000000    0.000000    1.000000    0.420000    0.000000   \n",
      "25%     223.500000    0.000000    2.000000   20.125000    0.000000   \n",
      "50%     446.000000    0.000000    3.000000   28.000000    0.000000   \n",
      "75%     668.500000    1.000000    3.000000   38.000000    1.000000   \n",
      "max     891.000000    1.000000    3.000000   80.000000    8.000000   \n",
      "\n",
      "            Parch        Fare  \n",
      "count  891.000000  891.000000  \n",
      "mean     0.381594   32.204208  \n",
      "std      0.806057   49.693429  \n",
      "min      0.000000    0.000000  \n",
      "25%      0.000000    7.910400  \n",
      "50%      0.000000   14.454200  \n",
      "75%      0.000000   31.000000  \n",
      "max      6.000000  512.329200  \n"
     ]
    }
   ],
   "execution_count": 5
  },
  {
   "metadata": {
    "ExecuteTime": {
     "end_time": "2025-10-24T01:19:53.691510Z",
     "start_time": "2025-10-24T01:19:53.687642Z"
    }
   },
   "cell_type": "code",
   "source": "print(df_titanic.shape) # Número total de filas en el DataFrame",
   "id": "1d238b20f573669f",
   "outputs": [
    {
     "name": "stdout",
     "output_type": "stream",
     "text": [
      "(891, 12)\n"
     ]
    }
   ],
   "execution_count": 4
  },
  {
   "metadata": {
    "ExecuteTime": {
     "end_time": "2025-10-23T02:15:58.355134Z",
     "start_time": "2025-10-23T02:15:58.349175Z"
    }
   },
   "cell_type": "code",
   "source": [
    "print(df_titanic.nunique())  # Cuenta los valores únicos en cada columna\n",
    "# Ejemplo si en Sex hay mas de 2 valores unicos entonces hay un error en los datos"
   ],
   "id": "4e0336585bf437f",
   "outputs": [
    {
     "name": "stdout",
     "output_type": "stream",
     "text": [
      "PassengerId    891\n",
      "Survived         2\n",
      "Pclass           3\n",
      "Name           891\n",
      "Sex              2\n",
      "Age             88\n",
      "SibSp            7\n",
      "Parch            7\n",
      "Ticket         681\n",
      "Fare           248\n",
      "Cabin          147\n",
      "Embarked         3\n",
      "dtype: int64\n"
     ]
    }
   ],
   "execution_count": 10
  },
  {
   "metadata": {
    "ExecuteTime": {
     "end_time": "2025-10-24T01:21:29.919100Z",
     "start_time": "2025-10-24T01:21:29.910931Z"
    }
   },
   "cell_type": "code",
   "source": "print(df_titanic.tail())",
   "id": "7980d6c18dcfb24a",
   "outputs": [
    {
     "name": "stdout",
     "output_type": "stream",
     "text": [
      "     PassengerId  Survived  Pclass                                      Name  \\\n",
      "886          887         0       2                     Montvila, Rev. Juozas   \n",
      "887          888         1       1              Graham, Miss. Margaret Edith   \n",
      "888          889         0       3  Johnston, Miss. Catherine Helen \"Carrie\"   \n",
      "889          890         1       1                     Behr, Mr. Karl Howell   \n",
      "890          891         0       3                       Dooley, Mr. Patrick   \n",
      "\n",
      "        Sex   Age  SibSp  Parch      Ticket   Fare Cabin Embarked  \n",
      "886    male  27.0      0      0      211536  13.00   NaN        S  \n",
      "887  female  19.0      0      0      112053  30.00   B42        S  \n",
      "888  female   NaN      1      2  W./C. 6607  23.45   NaN        S  \n",
      "889    male  26.0      0      0      111369  30.00  C148        C  \n",
      "890    male  32.0      0      0      370376   7.75   NaN        Q  \n"
     ]
    }
   ],
   "execution_count": 5
  },
  {
   "metadata": {
    "ExecuteTime": {
     "end_time": "2025-10-24T01:22:01.860759Z",
     "start_time": "2025-10-24T01:22:01.852081Z"
    }
   },
   "cell_type": "code",
   "source": "print(df_titanic.sample(10))\n",
   "id": "7f6d7ac07ed3594e",
   "outputs": [
    {
     "name": "stdout",
     "output_type": "stream",
     "text": [
      "     PassengerId  Survived  Pclass  \\\n",
      "81            82         1       3   \n",
      "376          377         1       3   \n",
      "469          470         1       3   \n",
      "879          880         1       1   \n",
      "861          862         0       2   \n",
      "575          576         0       3   \n",
      "4              5         0       3   \n",
      "505          506         0       1   \n",
      "650          651         0       3   \n",
      "522          523         0       3   \n",
      "\n",
      "                                              Name     Sex    Age  SibSp  \\\n",
      "81                     Sheerlinck, Mr. Jan Baptist    male  29.00      0   \n",
      "376                Landergren, Miss. Aurora Adelia  female  22.00      0   \n",
      "469                  Baclini, Miss. Helene Barbara  female   0.75      2   \n",
      "879  Potter, Mrs. Thomas Jr (Lily Alexenia Wilson)  female  56.00      0   \n",
      "861                    Giles, Mr. Frederick Edward    male  21.00      1   \n",
      "575                           Patchett, Mr. George    male  19.00      0   \n",
      "4                         Allen, Mr. William Henry    male  35.00      0   \n",
      "505     Penasco y Castellana, Mr. Victor de Satode    male  18.00      1   \n",
      "650                              Mitkoff, Mr. Mito    male    NaN      0   \n",
      "522                             Lahoud, Mr. Sarkis    male    NaN      0   \n",
      "\n",
      "     Parch    Ticket      Fare Cabin Embarked  \n",
      "81       0    345779    9.5000   NaN        S  \n",
      "376      0    C 7077    7.2500   NaN        S  \n",
      "469      1      2666   19.2583   NaN        C  \n",
      "879      1     11767   83.1583   C50        C  \n",
      "861      0     28134   11.5000   NaN        S  \n",
      "575      0    358585   14.5000   NaN        S  \n",
      "4        0    373450    8.0500   NaN        S  \n",
      "505      0  PC 17758  108.9000   C65        C  \n",
      "650      0    349221    7.8958   NaN        S  \n",
      "522      0      2624    7.2250   NaN        C  \n"
     ]
    }
   ],
   "execution_count": 6
  },
  {
   "metadata": {
    "ExecuteTime": {
     "end_time": "2025-10-30T01:41:15.418638Z",
     "start_time": "2025-10-30T01:41:15.410855Z"
    }
   },
   "cell_type": "code",
   "source": [
    "# Existen tres tipos de datos faltantes:\n",
    "# 1. Datos faltantes completamente al azar (MCAR): Datos que faltan sin ningún patrón específico.\n",
    "# 2. Datos faltantes al azar (MAR): Datos que faltan debido a alguna variable observada.\n",
    "# 3. Datos faltantes no al azar (MNAR): Datos que faltan debido a la variable misma.\n",
    "\n",
    "# Identificar valores faltantes\n",
    "datos_perdidos = df_titanic.isna().sum() # Cuenta los valores faltantes en cada columna\n",
    "print(\"Valores faltantes por columna:\\n\", datos_perdidos)"
   ],
   "id": "f080f5d0e6c56f7a",
   "outputs": [
    {
     "name": "stdout",
     "output_type": "stream",
     "text": [
      "Valores faltantes por columna:\n",
      " PassengerId      0\n",
      "Survived         0\n",
      "Pclass           0\n",
      "Name             0\n",
      "Sex              0\n",
      "Age            177\n",
      "SibSp            0\n",
      "Parch            0\n",
      "Ticket           0\n",
      "Fare             0\n",
      "Cabin          687\n",
      "Embarked         2\n",
      "dtype: int64\n"
     ]
    }
   ],
   "execution_count": 3
  },
  {
   "metadata": {
    "ExecuteTime": {
     "end_time": "2025-10-23T02:15:50.980456Z",
     "start_time": "2025-10-23T02:15:50.976373Z"
    }
   },
   "cell_type": "code",
   "outputs": [
    {
     "name": "stdout",
     "output_type": "stream",
     "text": [
      "Age      177\n",
      "Fare       0\n",
      "Cabin    687\n",
      "dtype: int64\n"
     ]
    }
   ],
   "execution_count": 7,
   "source": [
    "# Ver los datos perdidos en en las columnas específicas\n",
    "col_datos_perd = ['Age', 'Fare', 'Cabin']\n",
    "print(df_titanic[col_datos_perd].isnull().sum())"
   ],
   "id": "e4ca2ee6db5712e5"
  },
  {
   "metadata": {
    "ExecuteTime": {
     "end_time": "2025-10-23T02:15:56.443081Z",
     "start_time": "2025-10-23T02:15:56.438090Z"
    }
   },
   "cell_type": "code",
   "outputs": [
    {
     "name": "stdout",
     "output_type": "stream",
     "text": [
      "Age      19.865320\n",
      "Fare      0.000000\n",
      "Cabin    77.104377\n",
      "dtype: float64\n"
     ]
    }
   ],
   "execution_count": 9,
   "source": "print(df_titanic[col_datos_perd].isnull().sum() / len(df_titanic) * 100) # el porcentaje se puede calcular usando una regla de tres simple\n",
   "id": "1affd9d25445506e"
  },
  {
   "metadata": {
    "ExecuteTime": {
     "end_time": "2025-10-23T02:16:00.722911Z",
     "start_time": "2025-10-23T02:16:00.714619Z"
    }
   },
   "cell_type": "code",
   "source": [
    "# Agrupar por clase cuantas personas tienen registrado la edad (Pclass y Age)\n",
    "edad_por_clase = df_titanic.groupby('Pclass')['Age'].count()\n",
    "print(edad_por_clase) # Cuenta los valores no nulos en 'Age' para cada 'Pclass'\n"
   ],
   "id": "76f258967cacd7b",
   "outputs": [
    {
     "name": "stdout",
     "output_type": "stream",
     "text": [
      "Pclass\n",
      "1    186\n",
      "2    173\n",
      "3    355\n",
      "Name: Age, dtype: int64\n"
     ]
    }
   ],
   "execution_count": 11
  },
  {
   "metadata": {
    "ExecuteTime": {
     "end_time": "2025-10-17T02:32:31.906058Z",
     "start_time": "2025-10-17T02:32:31.900606Z"
    }
   },
   "cell_type": "code",
   "source": [
    "# Calcular cuantas personas hay por clase\n",
    "total_pers_clase = df_titanic['Pclass'].value_counts().sort_index()\n",
    "print(total_pers_clase) # Cuenta los valores en 'Pclass'\n",
    "# Value_counts() devuelve una Serie con el conteo de ocurrencias de cada valor único en la columna especificada."
   ],
   "id": "66098faa6b4f26b",
   "outputs": [
    {
     "name": "stdout",
     "output_type": "stream",
     "text": [
      "Pclass\n",
      "1    107\n",
      "2     93\n",
      "3    218\n",
      "Name: count, dtype: int64\n"
     ]
    }
   ],
   "execution_count": 32
  },
  {
   "metadata": {
    "ExecuteTime": {
     "end_time": "2025-10-17T02:33:00.119830Z",
     "start_time": "2025-10-17T02:33:00.113732Z"
    }
   },
   "cell_type": "code",
   "source": [
    "resta = total_pers_clase - edad_por_clase\n",
    "print(resta) # Resta los conteos para encontrar cuántas personas no tienen registrada"
   ],
   "id": "d13d82fabd0f705f",
   "outputs": [
    {
     "name": "stdout",
     "output_type": "stream",
     "text": [
      "Pclass\n",
      "1     9\n",
      "2     5\n",
      "3    72\n",
      "dtype: int64\n"
     ]
    }
   ],
   "execution_count": 33
  },
  {
   "metadata": {
    "ExecuteTime": {
     "end_time": "2025-10-17T02:50:47.464258Z",
     "start_time": "2025-10-17T02:50:47.457462Z"
    }
   },
   "cell_type": "code",
   "source": [
    "# isnull me devuelve un DataFrame de booleanos / serie de booleanos\n",
    "sin_edad = df_titanic[df_titanic['Age'].isnull()]  # Filtra las filas donde 'Age' es nulo\n",
    "print(sin_edad['Pclass'].value_counts().sort_index())\n"
   ],
   "id": "f8e6322e31192122",
   "outputs": [
    {
     "name": "stdout",
     "output_type": "stream",
     "text": [
      "Pclass\n",
      "1     9\n",
      "2     5\n",
      "3    72\n",
      "Name: count, dtype: int64\n"
     ]
    }
   ],
   "execution_count": 49
  },
  {
   "metadata": {
    "ExecuteTime": {
     "end_time": "2025-10-17T02:52:22.574891Z",
     "start_time": "2025-10-17T02:52:22.570130Z"
    }
   },
   "cell_type": "code",
   "source": "print(sin_edad['Pclass'].value_counts().sort_index() / len(sin_edad) * 100) # Porcentaje de personas sin edad por clase",
   "id": "6e58190cb6de61ff",
   "outputs": [
    {
     "name": "stdout",
     "output_type": "stream",
     "text": [
      "Pclass\n",
      "1    10.465116\n",
      "2     5.813953\n",
      "3    83.720930\n",
      "Name: count, dtype: float64\n"
     ]
    }
   ],
   "execution_count": 50
  },
  {
   "metadata": {
    "ExecuteTime": {
     "end_time": "2025-10-17T03:18:42.063501Z",
     "start_time": "2025-10-17T03:18:42.056634Z"
    }
   },
   "cell_type": "code",
   "source": [
    "# Usemos estadistica central como el promedio, la mediana, y la moda para validar con que valor rellenar la columna Age\n",
    "promedio_edad = df_titanic['Age'].mean()\n",
    "print(promedio_edad)\n",
    "mediana_edad = df_titanic['Age'].median() # la mediana me da el valor central de una distribución\n",
    "print(mediana_edad)\n",
    "moda_edad = df_titanic['Age'].mode()[0]\n",
    "print(moda_edad)# La moda puede devolver múltiples valores, tomamos el primero\n",
    "print(df_titanic['Age'].min(), df_titanic['Age'].max())"
   ],
   "id": "b5f613bb95cbc871",
   "outputs": [
    {
     "name": "stdout",
     "output_type": "stream",
     "text": [
      "30.272590361445783\n",
      "27.0\n",
      "21.0\n",
      "0.17 76.0\n"
     ]
    }
   ],
   "execution_count": 56
  },
  {
   "metadata": {
    "ExecuteTime": {
     "end_time": "2025-10-23T02:16:18.742626Z",
     "start_time": "2025-10-23T02:16:18.736139Z"
    }
   },
   "cell_type": "code",
   "source": "print(df_titanic.groupby('Sex')['Survived'].value_counts())",
   "id": "4fd3b249a91fe8ae",
   "outputs": [
    {
     "name": "stdout",
     "output_type": "stream",
     "text": [
      "Sex     Survived\n",
      "female  1           233\n",
      "        0            81\n",
      "male    0           468\n",
      "        1           109\n",
      "Name: count, dtype: int64\n"
     ]
    }
   ],
   "execution_count": 12
  },
  {
   "metadata": {
    "ExecuteTime": {
     "end_time": "2025-10-23T02:18:35.552406Z",
     "start_time": "2025-10-23T02:18:35.547297Z"
    }
   },
   "cell_type": "code",
   "source": "print(df_titanic['Sex'].value_counts())",
   "id": "952e9b0505435172",
   "outputs": [
    {
     "name": "stdout",
     "output_type": "stream",
     "text": [
      "Sex\n",
      "male      577\n",
      "female    314\n",
      "Name: count, dtype: int64\n"
     ]
    }
   ],
   "execution_count": 14
  },
  {
   "metadata": {
    "ExecuteTime": {
     "end_time": "2025-10-23T02:26:32.907352Z",
     "start_time": "2025-10-23T02:26:32.896788Z"
    }
   },
   "cell_type": "code",
   "source": [
    "resultado_sobrevivencia_sexo = df_titanic.groupby('Sex')['Survived'].agg(['mean', 'count', 'sum'])\n",
    "resultado_sobrevivencia_sexo['mean'] *= 100  # Convertir a porcentaje el promedio de supervivencia\n",
    "\n",
    "print(resultado_sobrevivencia_sexo)"
   ],
   "id": "f9f327b7cbf5093",
   "outputs": [
    {
     "name": "stdout",
     "output_type": "stream",
     "text": [
      "             mean  count  sum\n",
      "Sex                          \n",
      "female  74.203822    314  233\n",
      "male    18.890815    577  109\n"
     ]
    }
   ],
   "execution_count": 20
  },
  {
   "metadata": {},
   "cell_type": "code",
   "outputs": [],
   "execution_count": null,
   "source": [
    "# la columana edad es una variable cuantitativa continua\n",
    "# Discretas y continuas\n",
    "# Discretas: toman valores específicos y separados (ejemplo: número de hermanos, número de hijos)\n",
    "# Continuas: pueden tomar cualquier valor dentro de un rango (ejemplo: altura, peso, temperatura)\n"
   ],
   "id": "3846bba15be01c20"
  },
  {
   "metadata": {
    "ExecuteTime": {
     "end_time": "2025-10-23T02:38:03.553913Z",
     "start_time": "2025-10-23T02:38:03.544872Z"
    }
   },
   "cell_type": "code",
   "source": "print(df_titanic.nunique()) # Cuenta los valores únicos en cada columna",
   "id": "354156a1be73c063",
   "outputs": [
    {
     "name": "stdout",
     "output_type": "stream",
     "text": [
      "PassengerId    891\n",
      "Survived         2\n",
      "Pclass           3\n",
      "Name           891\n",
      "Sex              2\n",
      "Age             88\n",
      "SibSp            7\n",
      "Parch            7\n",
      "Ticket         681\n",
      "Fare           248\n",
      "Cabin          147\n",
      "Embarked         3\n",
      "dtype: int64\n"
     ]
    }
   ],
   "execution_count": 23
  },
  {
   "metadata": {
    "ExecuteTime": {
     "end_time": "2025-10-23T02:51:28.647350Z",
     "start_time": "2025-10-23T02:51:28.641556Z"
    }
   },
   "cell_type": "code",
   "source": [
    "# Crear una columna por rangos de edad\n",
    "df_titanic['Grupo Age'] = pd.cut(df_titanic['Age'], bins=[0,12,18,30,60,100], labels = ['Niño', 'Adolescente', 'Joven Adulto', 'Adulto', 'Anciano'])\n",
    "print(df_titanic['Grupo Age'].value_counts( dropna = False))"
   ],
   "id": "962b5d950eda73c8",
   "outputs": [
    {
     "name": "stdout",
     "output_type": "stream",
     "text": [
      "Grupo Age\n",
      "Adulto          283\n",
      "Joven Adulto    270\n",
      "NaN             177\n",
      "Adolescente      70\n",
      "Niño             69\n",
      "Anciano          22\n",
      "Name: count, dtype: int64\n"
     ]
    }
   ],
   "execution_count": 30
  },
  {
   "metadata": {
    "ExecuteTime": {
     "end_time": "2025-10-23T02:52:00.227296Z",
     "start_time": "2025-10-23T02:52:00.222988Z"
    }
   },
   "cell_type": "code",
   "source": "print(df_titanic['Grupo Age'].value_counts())",
   "id": "f6eeed0ea6f3b9a9",
   "outputs": [
    {
     "name": "stdout",
     "output_type": "stream",
     "text": [
      "Grupo Age\n",
      "Adulto          283\n",
      "Joven Adulto    270\n",
      "Adolescente      70\n",
      "Niño             69\n",
      "Anciano          22\n",
      "Name: count, dtype: int64\n"
     ]
    }
   ],
   "execution_count": 31
  },
  {
   "metadata": {
    "ExecuteTime": {
     "end_time": "2025-10-30T02:03:44.615560Z",
     "start_time": "2025-10-30T02:03:44.609213Z"
    }
   },
   "cell_type": "code",
   "source": "print(df_titanic['Age'].max(), df_titanic['Age'].min())",
   "id": "e33c758f6561a45b",
   "outputs": [
    {
     "name": "stdout",
     "output_type": "stream",
     "text": [
      "80.0 0.42\n"
     ]
    }
   ],
   "execution_count": 13
  },
  {
   "metadata": {
    "ExecuteTime": {
     "end_time": "2025-10-30T02:39:11.919028Z",
     "start_time": "2025-10-30T02:39:11.910848Z"
    }
   },
   "cell_type": "code",
   "source": [
    "# Python no usa la mediana para hallar outliers\n",
    "# Usa la Interpolación lineal (IQR)\n",
    "# Los outliers son valores atípicos que se encuentran fuera del rango esperado de una variable.\n",
    "# IQR significa Rango Intercuartílico y se utiliza para identificar outliers en un conjunto de datos.\n",
    "# En pandas el or es el símbolo | y el and es el símbolo &\n",
    "\n",
    "q1 = df_titanic['Age'].quantile(0.25)\n",
    "q3 = df_titanic['Age'].quantile(0.75)\n",
    "iqr = q3 - q1\n",
    "margen = 1.5 * iqr\n",
    "li = q1 - margen\n",
    "ls = q3 + margen\n",
    "\n",
    "print(f'q1={q1}, q3={q3}, iqr={iqr}, margen={margen}')\n",
    "print(f'Limite inferior={li}, Limite superior={ls}')\n",
    "\n",
    "lista_outliers = df_titanic[(df_titanic['Age'] < li) | (df_titanic['Age'] > ls)]\n",
    "print(\"Lista Outliers:\")\n",
    "print(lista_outliers['Age'].to_list())  # Muestra las filas donde 'Age' es un outlier\n",
    "\n",
    "# Podremos usar metodos de estadística central para rellenar los outliers o eliminarlos\n",
    "# Cuando existen outliers no podemos usar la media para rellenar datos faltantes"
   ],
   "id": "155f12d087b9479a",
   "outputs": [
    {
     "name": "stdout",
     "output_type": "stream",
     "text": [
      "q1=20.125, q3=38.0, iqr=17.875, margen=26.8125\n",
      "Limite inferior=-6.6875, Limite superior=64.8125\n",
      "Lista Outliers:\n",
      "[66.0, 65.0, 71.0, 70.5, 65.0, 65.0, 71.0, 80.0, 70.0, 70.0, 74.0]\n"
     ]
    }
   ],
   "execution_count": 27
  }
 ],
 "metadata": {
  "kernelspec": {
   "display_name": "Python 3",
   "language": "python",
   "name": "python3"
  },
  "language_info": {
   "codemirror_mode": {
    "name": "ipython",
    "version": 2
   },
   "file_extension": ".py",
   "mimetype": "text/x-python",
   "name": "python",
   "nbconvert_exporter": "python",
   "pygments_lexer": "ipython2",
   "version": "2.7.6"
  }
 },
 "nbformat": 4,
 "nbformat_minor": 5
}
