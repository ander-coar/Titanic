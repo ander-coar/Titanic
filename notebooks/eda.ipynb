{
 "cells": [
  {
   "cell_type": "code",
   "id": "initial_id",
   "metadata": {
    "collapsed": true,
    "ExecuteTime": {
     "end_time": "2025-10-23T02:15:14.508004Z",
     "start_time": "2025-10-23T02:15:14.485598Z"
    }
   },
   "source": [
    "import pandas as pd\n",
    "\n",
    "df_titanic = pd.read_csv('../data/raw/train.csv') # Al cargar el dataset y convertirlo en un DataFrame Los valores faltantes se representan como NaN, Null, NaT, None, Missing, etc. en columnas numéricas se convierten en un float\n",
    "df_titanic.head() # Muestra las primeras 5 filas del DataFrame"
   ],
   "outputs": [
    {
     "data": {
      "text/plain": [
       "   PassengerId  Survived  Pclass  \\\n",
       "0            1         0       3   \n",
       "1            2         1       1   \n",
       "2            3         1       3   \n",
       "3            4         1       1   \n",
       "4            5         0       3   \n",
       "\n",
       "                                                Name     Sex   Age  SibSp  \\\n",
       "0                            Braund, Mr. Owen Harris    male  22.0      1   \n",
       "1  Cumings, Mrs. John Bradley (Florence Briggs Th...  female  38.0      1   \n",
       "2                             Heikkinen, Miss. Laina  female  26.0      0   \n",
       "3       Futrelle, Mrs. Jacques Heath (Lily May Peel)  female  35.0      1   \n",
       "4                           Allen, Mr. William Henry    male  35.0      0   \n",
       "\n",
       "   Parch            Ticket     Fare Cabin Embarked  \n",
       "0      0         A/5 21171   7.2500   NaN        S  \n",
       "1      0          PC 17599  71.2833   C85        C  \n",
       "2      0  STON/O2. 3101282   7.9250   NaN        S  \n",
       "3      0            113803  53.1000  C123        S  \n",
       "4      0            373450   8.0500   NaN        S  "
      ],
      "text/html": [
       "<div>\n",
       "<style scoped>\n",
       "    .dataframe tbody tr th:only-of-type {\n",
       "        vertical-align: middle;\n",
       "    }\n",
       "\n",
       "    .dataframe tbody tr th {\n",
       "        vertical-align: top;\n",
       "    }\n",
       "\n",
       "    .dataframe thead th {\n",
       "        text-align: right;\n",
       "    }\n",
       "</style>\n",
       "<table border=\"1\" class=\"dataframe\">\n",
       "  <thead>\n",
       "    <tr style=\"text-align: right;\">\n",
       "      <th></th>\n",
       "      <th>PassengerId</th>\n",
       "      <th>Survived</th>\n",
       "      <th>Pclass</th>\n",
       "      <th>Name</th>\n",
       "      <th>Sex</th>\n",
       "      <th>Age</th>\n",
       "      <th>SibSp</th>\n",
       "      <th>Parch</th>\n",
       "      <th>Ticket</th>\n",
       "      <th>Fare</th>\n",
       "      <th>Cabin</th>\n",
       "      <th>Embarked</th>\n",
       "    </tr>\n",
       "  </thead>\n",
       "  <tbody>\n",
       "    <tr>\n",
       "      <th>0</th>\n",
       "      <td>1</td>\n",
       "      <td>0</td>\n",
       "      <td>3</td>\n",
       "      <td>Braund, Mr. Owen Harris</td>\n",
       "      <td>male</td>\n",
       "      <td>22.0</td>\n",
       "      <td>1</td>\n",
       "      <td>0</td>\n",
       "      <td>A/5 21171</td>\n",
       "      <td>7.2500</td>\n",
       "      <td>NaN</td>\n",
       "      <td>S</td>\n",
       "    </tr>\n",
       "    <tr>\n",
       "      <th>1</th>\n",
       "      <td>2</td>\n",
       "      <td>1</td>\n",
       "      <td>1</td>\n",
       "      <td>Cumings, Mrs. John Bradley (Florence Briggs Th...</td>\n",
       "      <td>female</td>\n",
       "      <td>38.0</td>\n",
       "      <td>1</td>\n",
       "      <td>0</td>\n",
       "      <td>PC 17599</td>\n",
       "      <td>71.2833</td>\n",
       "      <td>C85</td>\n",
       "      <td>C</td>\n",
       "    </tr>\n",
       "    <tr>\n",
       "      <th>2</th>\n",
       "      <td>3</td>\n",
       "      <td>1</td>\n",
       "      <td>3</td>\n",
       "      <td>Heikkinen, Miss. Laina</td>\n",
       "      <td>female</td>\n",
       "      <td>26.0</td>\n",
       "      <td>0</td>\n",
       "      <td>0</td>\n",
       "      <td>STON/O2. 3101282</td>\n",
       "      <td>7.9250</td>\n",
       "      <td>NaN</td>\n",
       "      <td>S</td>\n",
       "    </tr>\n",
       "    <tr>\n",
       "      <th>3</th>\n",
       "      <td>4</td>\n",
       "      <td>1</td>\n",
       "      <td>1</td>\n",
       "      <td>Futrelle, Mrs. Jacques Heath (Lily May Peel)</td>\n",
       "      <td>female</td>\n",
       "      <td>35.0</td>\n",
       "      <td>1</td>\n",
       "      <td>0</td>\n",
       "      <td>113803</td>\n",
       "      <td>53.1000</td>\n",
       "      <td>C123</td>\n",
       "      <td>S</td>\n",
       "    </tr>\n",
       "    <tr>\n",
       "      <th>4</th>\n",
       "      <td>5</td>\n",
       "      <td>0</td>\n",
       "      <td>3</td>\n",
       "      <td>Allen, Mr. William Henry</td>\n",
       "      <td>male</td>\n",
       "      <td>35.0</td>\n",
       "      <td>0</td>\n",
       "      <td>0</td>\n",
       "      <td>373450</td>\n",
       "      <td>8.0500</td>\n",
       "      <td>NaN</td>\n",
       "      <td>S</td>\n",
       "    </tr>\n",
       "  </tbody>\n",
       "</table>\n",
       "</div>"
      ]
     },
     "execution_count": 2,
     "metadata": {},
     "output_type": "execute_result"
    }
   ],
   "execution_count": 2
  },
  {
   "metadata": {
    "ExecuteTime": {
     "end_time": "2025-10-23T02:15:39.129766Z",
     "start_time": "2025-10-23T02:15:39.114196Z"
    }
   },
   "cell_type": "code",
   "source": "print(df_titanic.info())",
   "id": "fa8c5d8813445acc",
   "outputs": [
    {
     "name": "stdout",
     "output_type": "stream",
     "text": [
      "<class 'pandas.core.frame.DataFrame'>\n",
      "RangeIndex: 891 entries, 0 to 890\n",
      "Data columns (total 12 columns):\n",
      " #   Column       Non-Null Count  Dtype  \n",
      "---  ------       --------------  -----  \n",
      " 0   PassengerId  891 non-null    int64  \n",
      " 1   Survived     891 non-null    int64  \n",
      " 2   Pclass       891 non-null    int64  \n",
      " 3   Name         891 non-null    object \n",
      " 4   Sex          891 non-null    object \n",
      " 5   Age          714 non-null    float64\n",
      " 6   SibSp        891 non-null    int64  \n",
      " 7   Parch        891 non-null    int64  \n",
      " 8   Ticket       891 non-null    object \n",
      " 9   Fare         891 non-null    float64\n",
      " 10  Cabin        204 non-null    object \n",
      " 11  Embarked     889 non-null    object \n",
      "dtypes: float64(2), int64(5), object(5)\n",
      "memory usage: 83.7+ KB\n",
      "None\n"
     ]
    }
   ],
   "execution_count": 4
  },
  {
   "metadata": {
    "ExecuteTime": {
     "end_time": "2025-10-23T02:15:42.108055Z",
     "start_time": "2025-10-23T02:15:42.092483Z"
    }
   },
   "cell_type": "code",
   "source": "print(df_titanic.describe())",
   "id": "7120777ed655c760",
   "outputs": [
    {
     "name": "stdout",
     "output_type": "stream",
     "text": [
      "       PassengerId    Survived      Pclass         Age       SibSp  \\\n",
      "count   891.000000  891.000000  891.000000  714.000000  891.000000   \n",
      "mean    446.000000    0.383838    2.308642   29.699118    0.523008   \n",
      "std     257.353842    0.486592    0.836071   14.526497    1.102743   \n",
      "min       1.000000    0.000000    1.000000    0.420000    0.000000   \n",
      "25%     223.500000    0.000000    2.000000   20.125000    0.000000   \n",
      "50%     446.000000    0.000000    3.000000   28.000000    0.000000   \n",
      "75%     668.500000    1.000000    3.000000   38.000000    1.000000   \n",
      "max     891.000000    1.000000    3.000000   80.000000    8.000000   \n",
      "\n",
      "            Parch        Fare  \n",
      "count  891.000000  891.000000  \n",
      "mean     0.381594   32.204208  \n",
      "std      0.806057   49.693429  \n",
      "min      0.000000    0.000000  \n",
      "25%      0.000000    7.910400  \n",
      "50%      0.000000   14.454200  \n",
      "75%      0.000000   31.000000  \n",
      "max      6.000000  512.329200  \n"
     ]
    }
   ],
   "execution_count": 5
  },
  {
   "metadata": {
    "ExecuteTime": {
     "end_time": "2025-10-23T02:15:45.399765Z",
     "start_time": "2025-10-23T02:15:45.394358Z"
    }
   },
   "cell_type": "code",
   "source": [
    "# Existen tres tipos de datos faltantes:\n",
    "# 1. Datos faltantes completamente al azar (MCAR): Datos que faltan sin ningún patrón específico.\n",
    "# 2. Datos faltantes al azar (MAR): Datos que faltan debido a alguna variable observada.\n",
    "# 3. Datos faltantes no al azar (MNAR): Datos que faltan debido a la variable misma.\n",
    "\n",
    "# Identificar valores faltantes\n",
    "datos_perdidos = df_titanic.isnull().sum() # Cuenta los valores faltantes en cada columna\n",
    "print(\"Valores faltantes por columna:\\n\", datos_perdidos)"
   ],
   "id": "d12c8bd4b4a6acf9",
   "outputs": [
    {
     "name": "stdout",
     "output_type": "stream",
     "text": [
      "Valores faltantes por columna:\n",
      " PassengerId      0\n",
      "Survived         0\n",
      "Pclass           0\n",
      "Name             0\n",
      "Sex              0\n",
      "Age            177\n",
      "SibSp            0\n",
      "Parch            0\n",
      "Ticket           0\n",
      "Fare             0\n",
      "Cabin          687\n",
      "Embarked         2\n",
      "dtype: int64\n"
     ]
    }
   ],
   "execution_count": 6
  },
  {
   "metadata": {
    "ExecuteTime": {
     "end_time": "2025-10-23T02:15:50.980456Z",
     "start_time": "2025-10-23T02:15:50.976373Z"
    }
   },
   "cell_type": "code",
   "source": [
    "# Ver los datos perdidos en en las columnas específicas\n",
    "col_datos_perd = ['Age', 'Fare', 'Cabin']\n",
    "print(df_titanic[col_datos_perd].isnull().sum())"
   ],
   "id": "8ceedef0510f7784",
   "outputs": [
    {
     "name": "stdout",
     "output_type": "stream",
     "text": [
      "Age      177\n",
      "Fare       0\n",
      "Cabin    687\n",
      "dtype: int64\n"
     ]
    }
   ],
   "execution_count": 7
  },
  {
   "metadata": {
    "ExecuteTime": {
     "end_time": "2025-10-23T02:15:53.410202Z",
     "start_time": "2025-10-23T02:15:53.406077Z"
    }
   },
   "cell_type": "code",
   "source": "print(len(df_titanic)) # Número total de filas en el DataFrame",
   "id": "1d238b20f573669f",
   "outputs": [
    {
     "name": "stdout",
     "output_type": "stream",
     "text": [
      "891\n"
     ]
    }
   ],
   "execution_count": 8
  },
  {
   "metadata": {
    "ExecuteTime": {
     "end_time": "2025-10-23T02:15:56.443081Z",
     "start_time": "2025-10-23T02:15:56.438090Z"
    }
   },
   "cell_type": "code",
   "source": "print(df_titanic[col_datos_perd].isnull().sum() / len(df_titanic) * 100) # el porcentaje se puede calcular usando una regla de tres simple\n",
   "id": "78933f69aa7a8f98",
   "outputs": [
    {
     "name": "stdout",
     "output_type": "stream",
     "text": [
      "Age      19.865320\n",
      "Fare      0.000000\n",
      "Cabin    77.104377\n",
      "dtype: float64\n"
     ]
    }
   ],
   "execution_count": 9
  },
  {
   "metadata": {
    "ExecuteTime": {
     "end_time": "2025-10-23T02:15:58.355134Z",
     "start_time": "2025-10-23T02:15:58.349175Z"
    }
   },
   "cell_type": "code",
   "source": [
    "print(df_titanic.nunique())  # Cuenta los valores únicos en cada columna\n",
    "# Ejemplo si en Sex hay mas de 2 valores unicos entonces hay un error en los datos"
   ],
   "id": "4e0336585bf437f",
   "outputs": [
    {
     "name": "stdout",
     "output_type": "stream",
     "text": [
      "PassengerId    891\n",
      "Survived         2\n",
      "Pclass           3\n",
      "Name           891\n",
      "Sex              2\n",
      "Age             88\n",
      "SibSp            7\n",
      "Parch            7\n",
      "Ticket         681\n",
      "Fare           248\n",
      "Cabin          147\n",
      "Embarked         3\n",
      "dtype: int64\n"
     ]
    }
   ],
   "execution_count": 10
  },
  {
   "metadata": {
    "ExecuteTime": {
     "end_time": "2025-10-23T02:16:00.722911Z",
     "start_time": "2025-10-23T02:16:00.714619Z"
    }
   },
   "cell_type": "code",
   "source": [
    "# Agrupar por clase cuantas personas tienen registrado la edad (Pclass y Age)\n",
    "edad_por_clase = df_titanic.groupby('Pclass')['Age'].count()\n",
    "print(edad_por_clase) # Cuenta los valores no nulos en 'Age' para cada 'Pclass'\n"
   ],
   "id": "76f258967cacd7b",
   "outputs": [
    {
     "name": "stdout",
     "output_type": "stream",
     "text": [
      "Pclass\n",
      "1    186\n",
      "2    173\n",
      "3    355\n",
      "Name: Age, dtype: int64\n"
     ]
    }
   ],
   "execution_count": 11
  },
  {
   "metadata": {
    "ExecuteTime": {
     "end_time": "2025-10-17T02:32:31.906058Z",
     "start_time": "2025-10-17T02:32:31.900606Z"
    }
   },
   "cell_type": "code",
   "source": [
    "# Calcular cuantas personas hay por clase\n",
    "total_pers_clase = df_titanic['Pclass'].value_counts().sort_index()\n",
    "print(total_pers_clase) # Cuenta los valores en 'Pclass'\n",
    "# Value_counts() devuelve una Serie con el conteo de ocurrencias de cada valor único en la columna especificada."
   ],
   "id": "66098faa6b4f26b",
   "outputs": [
    {
     "name": "stdout",
     "output_type": "stream",
     "text": [
      "Pclass\n",
      "1    107\n",
      "2     93\n",
      "3    218\n",
      "Name: count, dtype: int64\n"
     ]
    }
   ],
   "execution_count": 32
  },
  {
   "metadata": {
    "ExecuteTime": {
     "end_time": "2025-10-17T02:33:00.119830Z",
     "start_time": "2025-10-17T02:33:00.113732Z"
    }
   },
   "cell_type": "code",
   "source": [
    "resta = total_pers_clase - edad_por_clase\n",
    "print(resta) # Resta los conteos para encontrar cuántas personas no tienen registrada"
   ],
   "id": "d13d82fabd0f705f",
   "outputs": [
    {
     "name": "stdout",
     "output_type": "stream",
     "text": [
      "Pclass\n",
      "1     9\n",
      "2     5\n",
      "3    72\n",
      "dtype: int64\n"
     ]
    }
   ],
   "execution_count": 33
  },
  {
   "metadata": {
    "ExecuteTime": {
     "end_time": "2025-10-17T02:50:47.464258Z",
     "start_time": "2025-10-17T02:50:47.457462Z"
    }
   },
   "cell_type": "code",
   "source": [
    "# isnull me devuelve un DataFrame de booleanos / serie de booleanos\n",
    "sin_edad = df_titanic[df_titanic['Age'].isnull()]  # Filtra las filas donde 'Age' es nulo\n",
    "print(sin_edad['Pclass'].value_counts().sort_index())\n"
   ],
   "id": "f8e6322e31192122",
   "outputs": [
    {
     "name": "stdout",
     "output_type": "stream",
     "text": [
      "Pclass\n",
      "1     9\n",
      "2     5\n",
      "3    72\n",
      "Name: count, dtype: int64\n"
     ]
    }
   ],
   "execution_count": 49
  },
  {
   "metadata": {
    "ExecuteTime": {
     "end_time": "2025-10-17T02:52:22.574891Z",
     "start_time": "2025-10-17T02:52:22.570130Z"
    }
   },
   "cell_type": "code",
   "source": "print(sin_edad['Pclass'].value_counts().sort_index() / len(sin_edad) * 100) # Porcentaje de personas sin edad por clase",
   "id": "6e58190cb6de61ff",
   "outputs": [
    {
     "name": "stdout",
     "output_type": "stream",
     "text": [
      "Pclass\n",
      "1    10.465116\n",
      "2     5.813953\n",
      "3    83.720930\n",
      "Name: count, dtype: float64\n"
     ]
    }
   ],
   "execution_count": 50
  },
  {
   "metadata": {
    "ExecuteTime": {
     "end_time": "2025-10-17T03:18:42.063501Z",
     "start_time": "2025-10-17T03:18:42.056634Z"
    }
   },
   "cell_type": "code",
   "source": [
    "# Usemos estadistica central como el promedio, la mediana, y la moda para validar con que valor rellenar la columna Age\n",
    "promedio_edad = df_titanic['Age'].mean()\n",
    "print(promedio_edad)\n",
    "mediana_edad = df_titanic['Age'].median() # la mediana me da el valor central de una distribución\n",
    "print(mediana_edad)\n",
    "moda_edad = df_titanic['Age'].mode()[0]\n",
    "print(moda_edad)# La moda puede devolver múltiples valores, tomamos el primero\n",
    "print(df_titanic['Age'].min(), df_titanic['Age'].max())"
   ],
   "id": "b5f613bb95cbc871",
   "outputs": [
    {
     "name": "stdout",
     "output_type": "stream",
     "text": [
      "30.272590361445783\n",
      "27.0\n",
      "21.0\n",
      "0.17 76.0\n"
     ]
    }
   ],
   "execution_count": 56
  },
  {
   "metadata": {
    "ExecuteTime": {
     "end_time": "2025-10-23T02:16:18.742626Z",
     "start_time": "2025-10-23T02:16:18.736139Z"
    }
   },
   "cell_type": "code",
   "source": "print(df_titanic.groupby('Sex')['Survived'].value_counts())",
   "id": "4fd3b249a91fe8ae",
   "outputs": [
    {
     "name": "stdout",
     "output_type": "stream",
     "text": [
      "Sex     Survived\n",
      "female  1           233\n",
      "        0            81\n",
      "male    0           468\n",
      "        1           109\n",
      "Name: count, dtype: int64\n"
     ]
    }
   ],
   "execution_count": 12
  },
  {
   "metadata": {
    "ExecuteTime": {
     "end_time": "2025-10-23T02:18:35.552406Z",
     "start_time": "2025-10-23T02:18:35.547297Z"
    }
   },
   "cell_type": "code",
   "source": "print(df_titanic['Sex'].value_counts())",
   "id": "952e9b0505435172",
   "outputs": [
    {
     "name": "stdout",
     "output_type": "stream",
     "text": [
      "Sex\n",
      "male      577\n",
      "female    314\n",
      "Name: count, dtype: int64\n"
     ]
    }
   ],
   "execution_count": 14
  },
  {
   "metadata": {
    "ExecuteTime": {
     "end_time": "2025-10-23T02:26:32.907352Z",
     "start_time": "2025-10-23T02:26:32.896788Z"
    }
   },
   "cell_type": "code",
   "source": [
    "resultado_sobrevivencia_sexo = df_titanic.groupby('Sex')['Survived'].agg(['mean', 'count', 'sum'])\n",
    "resultado_sobrevivencia_sexo['mean'] *= 100  # Convertir a porcentaje el promedio de supervivencia\n",
    "\n",
    "print(resultado_sobrevivencia_sexo)"
   ],
   "id": "f9f327b7cbf5093",
   "outputs": [
    {
     "name": "stdout",
     "output_type": "stream",
     "text": [
      "             mean  count  sum\n",
      "Sex                          \n",
      "female  74.203822    314  233\n",
      "male    18.890815    577  109\n"
     ]
    }
   ],
   "execution_count": 20
  },
  {
   "metadata": {},
   "cell_type": "code",
   "outputs": [],
   "execution_count": null,
   "source": [
    "# la columana edad es una variable cuantitativa continua\n",
    "# Discretas y continuas\n",
    "# Discretas: toman valores específicos y separados (ejemplo: número de hermanos, número de hijos)\n",
    "# Continuas: pueden tomar cualquier valor dentro de un rango (ejemplo: altura, peso, temperatura)\n"
   ],
   "id": "3846bba15be01c20"
  },
  {
   "metadata": {
    "ExecuteTime": {
     "end_time": "2025-10-23T02:38:03.553913Z",
     "start_time": "2025-10-23T02:38:03.544872Z"
    }
   },
   "cell_type": "code",
   "source": "print(df_titanic.nunique()) # Cuenta los valores únicos en cada columna",
   "id": "354156a1be73c063",
   "outputs": [
    {
     "name": "stdout",
     "output_type": "stream",
     "text": [
      "PassengerId    891\n",
      "Survived         2\n",
      "Pclass           3\n",
      "Name           891\n",
      "Sex              2\n",
      "Age             88\n",
      "SibSp            7\n",
      "Parch            7\n",
      "Ticket         681\n",
      "Fare           248\n",
      "Cabin          147\n",
      "Embarked         3\n",
      "dtype: int64\n"
     ]
    }
   ],
   "execution_count": 23
  },
  {
   "metadata": {
    "ExecuteTime": {
     "end_time": "2025-10-23T02:51:28.647350Z",
     "start_time": "2025-10-23T02:51:28.641556Z"
    }
   },
   "cell_type": "code",
   "source": [
    "# Crear una columna por rangos de edad\n",
    "df_titanic['Grupo Age'] = pd.cut(df_titanic['Age'], bins=[0,12,18,30,60,100], labels = ['Niño', 'Adolescente', 'Joven Adulto', 'Adulto', 'Anciano'])\n",
    "print(df_titanic['Grupo Age'].value_counts( dropna = False))"
   ],
   "id": "962b5d950eda73c8",
   "outputs": [
    {
     "name": "stdout",
     "output_type": "stream",
     "text": [
      "Grupo Age\n",
      "Adulto          283\n",
      "Joven Adulto    270\n",
      "NaN             177\n",
      "Adolescente      70\n",
      "Niño             69\n",
      "Anciano          22\n",
      "Name: count, dtype: int64\n"
     ]
    }
   ],
   "execution_count": 30
  },
  {
   "metadata": {
    "ExecuteTime": {
     "end_time": "2025-10-23T02:52:00.227296Z",
     "start_time": "2025-10-23T02:52:00.222988Z"
    }
   },
   "cell_type": "code",
   "source": "print(df_titanic['Grupo Age'].value_counts())",
   "id": "f6eeed0ea6f3b9a9",
   "outputs": [
    {
     "name": "stdout",
     "output_type": "stream",
     "text": [
      "Grupo Age\n",
      "Adulto          283\n",
      "Joven Adulto    270\n",
      "Adolescente      70\n",
      "Niño             69\n",
      "Anciano          22\n",
      "Name: count, dtype: int64\n"
     ]
    }
   ],
   "execution_count": 31
  }
 ],
 "metadata": {
  "kernelspec": {
   "display_name": "Python 3",
   "language": "python",
   "name": "python3"
  },
  "language_info": {
   "codemirror_mode": {
    "name": "ipython",
    "version": 2
   },
   "file_extension": ".py",
   "mimetype": "text/x-python",
   "name": "python",
   "nbconvert_exporter": "python",
   "pygments_lexer": "ipython2",
   "version": "2.7.6"
  }
 },
 "nbformat": 4,
 "nbformat_minor": 5
}
