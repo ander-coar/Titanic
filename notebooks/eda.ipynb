{
 "cells": [
  {
   "cell_type": "code",
   "id": "initial_id",
   "metadata": {
    "collapsed": true,
    "ExecuteTime": {
     "end_time": "2025-10-17T01:56:57.316156Z",
     "start_time": "2025-10-17T01:56:57.302421Z"
    }
   },
   "source": [
    "import pandas as pd\n",
    "from IPython.extensions.autoreload import mod_attrs\n",
    "from jupyter_server.utils import to_api_path\n",
    "\n",
    "df_titanic = pd.read_csv('../data/raw/dataset_titanic.csv') # Al cargar el dataset y convertirlo en un DataFrame Los valores faltantes se representan como NaN, Null, NaT, None, Missing, etc. en columnas numéricas se convierten en un float\n",
    "df_titanic.head() # Muestra las primeras 5 filas del DataFrame"
   ],
   "outputs": [
    {
     "data": {
      "text/plain": [
       "   PassengerId  Survived  Pclass  \\\n",
       "0          892         0       3   \n",
       "1          893         1       3   \n",
       "2          894         0       2   \n",
       "3          895         0       3   \n",
       "4          896         1       3   \n",
       "\n",
       "                                           Name     Sex   Age  SibSp  Parch  \\\n",
       "0                              Kelly, Mr. James    male  34.5      0      0   \n",
       "1              Wilkes, Mrs. James (Ellen Needs)  female  47.0      1      0   \n",
       "2                     Myles, Mr. Thomas Francis    male  62.0      0      0   \n",
       "3                              Wirz, Mr. Albert    male  27.0      0      0   \n",
       "4  Hirvonen, Mrs. Alexander (Helga E Lindqvist)  female  22.0      1      1   \n",
       "\n",
       "    Ticket     Fare Cabin Embarked  \n",
       "0   330911   7.8292   NaN        Q  \n",
       "1   363272   7.0000   NaN        S  \n",
       "2   240276   9.6875   NaN        Q  \n",
       "3   315154   8.6625   NaN        S  \n",
       "4  3101298  12.2875   NaN        S  "
      ],
      "text/html": [
       "<div>\n",
       "<style scoped>\n",
       "    .dataframe tbody tr th:only-of-type {\n",
       "        vertical-align: middle;\n",
       "    }\n",
       "\n",
       "    .dataframe tbody tr th {\n",
       "        vertical-align: top;\n",
       "    }\n",
       "\n",
       "    .dataframe thead th {\n",
       "        text-align: right;\n",
       "    }\n",
       "</style>\n",
       "<table border=\"1\" class=\"dataframe\">\n",
       "  <thead>\n",
       "    <tr style=\"text-align: right;\">\n",
       "      <th></th>\n",
       "      <th>PassengerId</th>\n",
       "      <th>Survived</th>\n",
       "      <th>Pclass</th>\n",
       "      <th>Name</th>\n",
       "      <th>Sex</th>\n",
       "      <th>Age</th>\n",
       "      <th>SibSp</th>\n",
       "      <th>Parch</th>\n",
       "      <th>Ticket</th>\n",
       "      <th>Fare</th>\n",
       "      <th>Cabin</th>\n",
       "      <th>Embarked</th>\n",
       "    </tr>\n",
       "  </thead>\n",
       "  <tbody>\n",
       "    <tr>\n",
       "      <th>0</th>\n",
       "      <td>892</td>\n",
       "      <td>0</td>\n",
       "      <td>3</td>\n",
       "      <td>Kelly, Mr. James</td>\n",
       "      <td>male</td>\n",
       "      <td>34.5</td>\n",
       "      <td>0</td>\n",
       "      <td>0</td>\n",
       "      <td>330911</td>\n",
       "      <td>7.8292</td>\n",
       "      <td>NaN</td>\n",
       "      <td>Q</td>\n",
       "    </tr>\n",
       "    <tr>\n",
       "      <th>1</th>\n",
       "      <td>893</td>\n",
       "      <td>1</td>\n",
       "      <td>3</td>\n",
       "      <td>Wilkes, Mrs. James (Ellen Needs)</td>\n",
       "      <td>female</td>\n",
       "      <td>47.0</td>\n",
       "      <td>1</td>\n",
       "      <td>0</td>\n",
       "      <td>363272</td>\n",
       "      <td>7.0000</td>\n",
       "      <td>NaN</td>\n",
       "      <td>S</td>\n",
       "    </tr>\n",
       "    <tr>\n",
       "      <th>2</th>\n",
       "      <td>894</td>\n",
       "      <td>0</td>\n",
       "      <td>2</td>\n",
       "      <td>Myles, Mr. Thomas Francis</td>\n",
       "      <td>male</td>\n",
       "      <td>62.0</td>\n",
       "      <td>0</td>\n",
       "      <td>0</td>\n",
       "      <td>240276</td>\n",
       "      <td>9.6875</td>\n",
       "      <td>NaN</td>\n",
       "      <td>Q</td>\n",
       "    </tr>\n",
       "    <tr>\n",
       "      <th>3</th>\n",
       "      <td>895</td>\n",
       "      <td>0</td>\n",
       "      <td>3</td>\n",
       "      <td>Wirz, Mr. Albert</td>\n",
       "      <td>male</td>\n",
       "      <td>27.0</td>\n",
       "      <td>0</td>\n",
       "      <td>0</td>\n",
       "      <td>315154</td>\n",
       "      <td>8.6625</td>\n",
       "      <td>NaN</td>\n",
       "      <td>S</td>\n",
       "    </tr>\n",
       "    <tr>\n",
       "      <th>4</th>\n",
       "      <td>896</td>\n",
       "      <td>1</td>\n",
       "      <td>3</td>\n",
       "      <td>Hirvonen, Mrs. Alexander (Helga E Lindqvist)</td>\n",
       "      <td>female</td>\n",
       "      <td>22.0</td>\n",
       "      <td>1</td>\n",
       "      <td>1</td>\n",
       "      <td>3101298</td>\n",
       "      <td>12.2875</td>\n",
       "      <td>NaN</td>\n",
       "      <td>S</td>\n",
       "    </tr>\n",
       "  </tbody>\n",
       "</table>\n",
       "</div>"
      ]
     },
     "execution_count": 9,
     "metadata": {},
     "output_type": "execute_result"
    }
   ],
   "execution_count": 9
  },
  {
   "metadata": {
    "ExecuteTime": {
     "end_time": "2025-10-17T01:43:25.752662Z",
     "start_time": "2025-10-17T01:43:25.739912Z"
    }
   },
   "cell_type": "code",
   "source": "print(df_titanic.info())",
   "id": "fa8c5d8813445acc",
   "outputs": [
    {
     "name": "stdout",
     "output_type": "stream",
     "text": [
      "<class 'pandas.core.frame.DataFrame'>\n",
      "RangeIndex: 418 entries, 0 to 417\n",
      "Data columns (total 12 columns):\n",
      " #   Column       Non-Null Count  Dtype  \n",
      "---  ------       --------------  -----  \n",
      " 0   PassengerId  418 non-null    int64  \n",
      " 1   Survived     418 non-null    int64  \n",
      " 2   Pclass       418 non-null    int64  \n",
      " 3   Name         418 non-null    object \n",
      " 4   Sex          418 non-null    object \n",
      " 5   Age          332 non-null    float64\n",
      " 6   SibSp        418 non-null    int64  \n",
      " 7   Parch        418 non-null    int64  \n",
      " 8   Ticket       418 non-null    object \n",
      " 9   Fare         417 non-null    float64\n",
      " 10  Cabin        91 non-null     object \n",
      " 11  Embarked     418 non-null    object \n",
      "dtypes: float64(2), int64(5), object(5)\n",
      "memory usage: 39.3+ KB\n",
      "None\n"
     ]
    }
   ],
   "execution_count": 2
  },
  {
   "metadata": {
    "ExecuteTime": {
     "end_time": "2025-10-17T01:46:02.427811Z",
     "start_time": "2025-10-17T01:46:02.404530Z"
    }
   },
   "cell_type": "code",
   "source": "print(df_titanic.describe())",
   "id": "7120777ed655c760",
   "outputs": [
    {
     "name": "stdout",
     "output_type": "stream",
     "text": [
      "       PassengerId    Survived      Pclass         Age       SibSp  \\\n",
      "count   418.000000  418.000000  418.000000  332.000000  418.000000   \n",
      "mean   1100.500000    0.363636    2.265550   30.272590    0.447368   \n",
      "std     120.810458    0.481622    0.841838   14.181209    0.896760   \n",
      "min     892.000000    0.000000    1.000000    0.170000    0.000000   \n",
      "25%     996.250000    0.000000    1.000000   21.000000    0.000000   \n",
      "50%    1100.500000    0.000000    3.000000   27.000000    0.000000   \n",
      "75%    1204.750000    1.000000    3.000000   39.000000    1.000000   \n",
      "max    1309.000000    1.000000    3.000000   76.000000    8.000000   \n",
      "\n",
      "            Parch        Fare  \n",
      "count  418.000000  417.000000  \n",
      "mean     0.392344   35.627188  \n",
      "std      0.981429   55.907576  \n",
      "min      0.000000    0.000000  \n",
      "25%      0.000000    7.895800  \n",
      "50%      0.000000   14.454200  \n",
      "75%      0.000000   31.500000  \n",
      "max      9.000000  512.329200  \n"
     ]
    }
   ],
   "execution_count": 3
  },
  {
   "metadata": {
    "ExecuteTime": {
     "end_time": "2025-10-17T01:50:46.952457Z",
     "start_time": "2025-10-17T01:50:46.947830Z"
    }
   },
   "cell_type": "code",
   "source": [
    "# Existen tres tipos de datos faltantes:\n",
    "# 1. Datos faltantes completamente al azar (MCAR): Datos que faltan sin ningún patrón específico.\n",
    "# 2. Datos faltantes al azar (MAR): Datos que faltan debido a alguna variable observada.\n",
    "# 3. Datos faltantes no al azar (MNAR): Datos que faltan debido a la variable misma.\n",
    "\n",
    "# Identificar valores faltantes\n",
    "datos_perdidos = df_titanic.isnull().sum() # Cuenta los valores faltantes en cada columna\n",
    "print(\"Valores faltantes por columna:\\n\", datos_perdidos)"
   ],
   "id": "d12c8bd4b4a6acf9",
   "outputs": [
    {
     "name": "stdout",
     "output_type": "stream",
     "text": [
      "Valores faltantes por columna:\n",
      " PassengerId      0\n",
      "Survived         0\n",
      "Pclass           0\n",
      "Name             0\n",
      "Sex              0\n",
      "Age             86\n",
      "SibSp            0\n",
      "Parch            0\n",
      "Ticket           0\n",
      "Fare             1\n",
      "Cabin          327\n",
      "Embarked         0\n",
      "dtype: int64\n"
     ]
    }
   ],
   "execution_count": 5
  },
  {
   "metadata": {
    "ExecuteTime": {
     "end_time": "2025-10-17T01:57:28.634288Z",
     "start_time": "2025-10-17T01:57:28.629488Z"
    }
   },
   "cell_type": "code",
   "source": [
    "# Ver los datos perdidos en en las columnas específicas\n",
    "col_datos_perd = ['Age', 'Fare', 'Cabin']\n",
    "print(df_titanic[col_datos_perd].isnull().sum())"
   ],
   "id": "8ceedef0510f7784",
   "outputs": [
    {
     "name": "stdout",
     "output_type": "stream",
     "text": [
      "Age       86\n",
      "Fare       1\n",
      "Cabin    327\n",
      "dtype: int64\n"
     ]
    }
   ],
   "execution_count": 12
  },
  {
   "metadata": {
    "ExecuteTime": {
     "end_time": "2025-10-17T02:00:05.768576Z",
     "start_time": "2025-10-17T02:00:05.764691Z"
    }
   },
   "cell_type": "code",
   "source": "print(len(df_titanic)) # Número total de filas en el DataFrame",
   "id": "1d238b20f573669f",
   "outputs": [
    {
     "name": "stdout",
     "output_type": "stream",
     "text": [
      "418\n"
     ]
    }
   ],
   "execution_count": 15
  },
  {
   "metadata": {
    "ExecuteTime": {
     "end_time": "2025-10-17T01:59:41.491526Z",
     "start_time": "2025-10-17T01:59:41.486099Z"
    }
   },
   "cell_type": "code",
   "outputs": [
    {
     "name": "stdout",
     "output_type": "stream",
     "text": [
      "Age      20.574163\n",
      "Fare      0.239234\n",
      "Cabin    78.229665\n",
      "dtype: float64\n"
     ]
    }
   ],
   "execution_count": 14,
   "source": "print(df_titanic[col_datos_perd].isnull().sum() / len(df_titanic) * 100) # el porcentaje se puede calcular usando una regla de tres simple\n",
   "id": "78933f69aa7a8f98"
  },
  {
   "metadata": {
    "ExecuteTime": {
     "end_time": "2025-10-17T02:04:56.169276Z",
     "start_time": "2025-10-17T02:04:56.160849Z"
    }
   },
   "cell_type": "code",
   "source": [
    "print(df_titanic.nunique())  # Cuenta los valores únicos en cada columna\n",
    "# Ejemplo si en Sex hay mas de 2 valores unicos entonces hay un error en los datos"
   ],
   "id": "4e0336585bf437f",
   "outputs": [
    {
     "name": "stdout",
     "output_type": "stream",
     "text": [
      "PassengerId    418\n",
      "Survived         2\n",
      "Pclass           3\n",
      "Name           418\n",
      "Sex              2\n",
      "Age             79\n",
      "SibSp            7\n",
      "Parch            8\n",
      "Ticket         363\n",
      "Fare           169\n",
      "Cabin           76\n",
      "Embarked         3\n",
      "dtype: int64\n"
     ]
    }
   ],
   "execution_count": 16
  },
  {
   "metadata": {
    "ExecuteTime": {
     "end_time": "2025-10-17T02:31:54.601855Z",
     "start_time": "2025-10-17T02:31:54.596373Z"
    }
   },
   "cell_type": "code",
   "source": [
    "# Agrupar por clase cuantas personas tienen registrado la edad (Pclass y Age)\n",
    "edad_por_clase = df_titanic.groupby('Pclass')['Age'].count()\n",
    "print(edad_por_clase) # Cuenta los valores no nulos en 'Age' para cada 'Pclass'\n"
   ],
   "id": "76f258967cacd7b",
   "outputs": [
    {
     "name": "stdout",
     "output_type": "stream",
     "text": [
      "Pclass\n",
      "1     98\n",
      "2     88\n",
      "3    146\n",
      "Name: Age, dtype: int64\n"
     ]
    }
   ],
   "execution_count": 31
  },
  {
   "metadata": {
    "ExecuteTime": {
     "end_time": "2025-10-17T02:32:31.906058Z",
     "start_time": "2025-10-17T02:32:31.900606Z"
    }
   },
   "cell_type": "code",
   "source": [
    "# Calcular cuantas personas hay por clase\n",
    "total_pers_clase = df_titanic['Pclass'].value_counts().sort_index()\n",
    "print(total_pers_clase) # Cuenta los valores en 'Pclass'\n",
    "# Value_counts() devuelve una Serie con el conteo de ocurrencias de cada valor único en la columna especificada."
   ],
   "id": "66098faa6b4f26b",
   "outputs": [
    {
     "name": "stdout",
     "output_type": "stream",
     "text": [
      "Pclass\n",
      "1    107\n",
      "2     93\n",
      "3    218\n",
      "Name: count, dtype: int64\n"
     ]
    }
   ],
   "execution_count": 32
  },
  {
   "metadata": {
    "ExecuteTime": {
     "end_time": "2025-10-17T02:33:00.119830Z",
     "start_time": "2025-10-17T02:33:00.113732Z"
    }
   },
   "cell_type": "code",
   "source": [
    "resta = total_pers_clase - edad_por_clase\n",
    "print(resta) # Resta los conteos para encontrar cuántas personas no tienen registrada"
   ],
   "id": "d13d82fabd0f705f",
   "outputs": [
    {
     "name": "stdout",
     "output_type": "stream",
     "text": [
      "Pclass\n",
      "1     9\n",
      "2     5\n",
      "3    72\n",
      "dtype: int64\n"
     ]
    }
   ],
   "execution_count": 33
  },
  {
   "metadata": {
    "ExecuteTime": {
     "end_time": "2025-10-17T02:50:47.464258Z",
     "start_time": "2025-10-17T02:50:47.457462Z"
    }
   },
   "cell_type": "code",
   "source": [
    "# isnull me devuelve un DataFrame de booleanos / serie de booleanos\n",
    "sin_edad = df_titanic[df_titanic['Age'].isnull()]  # Filtra las filas donde 'Age' es nulo\n",
    "print(sin_edad['Pclass'].value_counts().sort_index())\n"
   ],
   "id": "f8e6322e31192122",
   "outputs": [
    {
     "name": "stdout",
     "output_type": "stream",
     "text": [
      "Pclass\n",
      "1     9\n",
      "2     5\n",
      "3    72\n",
      "Name: count, dtype: int64\n"
     ]
    }
   ],
   "execution_count": 49
  },
  {
   "metadata": {
    "ExecuteTime": {
     "end_time": "2025-10-17T02:52:22.574891Z",
     "start_time": "2025-10-17T02:52:22.570130Z"
    }
   },
   "cell_type": "code",
   "source": "print(sin_edad['Pclass'].value_counts().sort_index() / len(sin_edad) * 100) # Porcentaje de personas sin edad por clase",
   "id": "6e58190cb6de61ff",
   "outputs": [
    {
     "name": "stdout",
     "output_type": "stream",
     "text": [
      "Pclass\n",
      "1    10.465116\n",
      "2     5.813953\n",
      "3    83.720930\n",
      "Name: count, dtype: float64\n"
     ]
    }
   ],
   "execution_count": 50
  },
  {
   "metadata": {
    "ExecuteTime": {
     "end_time": "2025-10-17T03:18:42.063501Z",
     "start_time": "2025-10-17T03:18:42.056634Z"
    }
   },
   "cell_type": "code",
   "source": [
    "# Usemos el promedio, la mediana, y la moda para validar con que valor rellenar la columna Age\n",
    "promedio_edad = df_titanic['Age'].mean()\n",
    "print(promedio_edad)\n",
    "mediana_edad = df_titanic['Age'].median() # la mediana me da el valor central de una distribución\n",
    "print(mediana_edad)\n",
    "moda_edad = df_titanic['Age'].mode()[0]\n",
    "print(moda_edad)# La moda puede devolver múltiples valores, tomamos el primero\n",
    "print(df_titanic['Age'].min(), df_titanic['Age'].max())"
   ],
   "id": "b5f613bb95cbc871",
   "outputs": [
    {
     "name": "stdout",
     "output_type": "stream",
     "text": [
      "30.272590361445783\n",
      "27.0\n",
      "21.0\n",
      "0.17 76.0\n"
     ]
    }
   ],
   "execution_count": 56
  }
 ],
 "metadata": {
  "kernelspec": {
   "display_name": "Python 3",
   "language": "python",
   "name": "python3"
  },
  "language_info": {
   "codemirror_mode": {
    "name": "ipython",
    "version": 2
   },
   "file_extension": ".py",
   "mimetype": "text/x-python",
   "name": "python",
   "nbconvert_exporter": "python",
   "pygments_lexer": "ipython2",
   "version": "2.7.6"
  }
 },
 "nbformat": 4,
 "nbformat_minor": 5
}
